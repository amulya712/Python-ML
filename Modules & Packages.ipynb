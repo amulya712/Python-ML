{
  "cells": [
    {
      "cell_type": "markdown",
      "metadata": {
        "id": "pHigzsADFEIW"
      },
      "source": [
        "# Modules and Packages"
      ]
    },
    {
      "cell_type": "markdown",
      "metadata": {
        "id": "dsFKu9fMFEIa"
      },
      "source": [
        "Modules in Python are simply Python files with the .py extension, which implement a set of functions. Modules are imported from other modules using the import command. Before you go ahead and import modules, check out the full list of built-in modules in the Python Standard library.\n",
        "\n",
        "When a module is loaded into a running script for the first time, it is initialized by executing the code in the module once. If another module in your code imports the same module again, it will not be loaded twice but once only - so local variables inside the module act as a \"singleton\" - they are initialized only once.\n",
        "\n",
        "If we want to import module math,  we simply import the module:"
      ]
    },
    {
      "cell_type": "code",
      "execution_count": null,
      "metadata": {
        "id": "HJivh4DHFEIb"
      },
      "outputs": [],
      "source": [
        "# import the library\n",
        "import math"
      ]
    },
    {
      "cell_type": "code",
      "execution_count": null,
      "metadata": {
        "colab": {
          "base_uri": "https://localhost:8080/"
        },
        "id": "oI0PoZ8zFEId",
        "outputId": "f5fa6072-bd3a-43ba-d9bc-0543b10af1ff"
      },
      "outputs": [
        {
          "output_type": "execute_result",
          "data": {
            "text/plain": [
              "3"
            ]
          },
          "metadata": {},
          "execution_count": 2
        }
      ],
      "source": [
        "# use it (ceiling rounding)\n",
        "math.ceil(2.4)"
      ]
    },
    {
      "cell_type": "markdown",
      "metadata": {
        "id": "Xm5Xkq2kFEId"
      },
      "source": [
        "## Exploring built-in modules\n",
        "\n",
        "While exploring modules in Python, two important functions come in handy - the dir and help functions. dir functions show which functions are implemented in each module. Let us see the below example and understand better."
      ]
    },
    {
      "cell_type": "code",
      "execution_count": null,
      "metadata": {
        "colab": {
          "base_uri": "https://localhost:8080/"
        },
        "id": "W7XjGucEFEIe",
        "outputId": "6e418e46-f317-4813-8491-51599d195f20"
      },
      "outputs": [
        {
          "output_type": "stream",
          "name": "stdout",
          "text": [
            "['__doc__', '__loader__', '__name__', '__package__', '__spec__', 'acos', 'acosh', 'asin', 'asinh', 'atan', 'atan2', 'atanh', 'ceil', 'copysign', 'cos', 'cosh', 'degrees', 'e', 'erf', 'erfc', 'exp', 'expm1', 'fabs', 'factorial', 'floor', 'fmod', 'frexp', 'fsum', 'gamma', 'gcd', 'hypot', 'inf', 'isclose', 'isfinite', 'isinf', 'isnan', 'ldexp', 'lgamma', 'log', 'log10', 'log1p', 'log2', 'modf', 'nan', 'pi', 'pow', 'radians', 'remainder', 'sin', 'sinh', 'sqrt', 'tan', 'tanh', 'tau', 'trunc']\n"
          ]
        }
      ],
      "source": [
        "print(dir(math))"
      ]
    },
    {
      "cell_type": "markdown",
      "metadata": {
        "id": "_epSx1O3FEIe"
      },
      "source": [
        "When we find the function in the module we want to use, we can read about it more using the help function, inside the Python interpreter:"
      ]
    },
    {
      "cell_type": "code",
      "execution_count": null,
      "metadata": {
        "colab": {
          "base_uri": "https://localhost:8080/"
        },
        "id": "--iZ4tQlFEIe",
        "outputId": "bf2faf21-ba11-4d4b-cbae-5d3293574f62"
      },
      "outputs": [
        {
          "output_type": "stream",
          "name": "stdout",
          "text": [
            "Help on built-in function ceil in module math:\n",
            "\n",
            "ceil(x, /)\n",
            "    Return the ceiling of x as an Integral.\n",
            "    \n",
            "    This is the smallest integer >= x.\n",
            "\n"
          ]
        }
      ],
      "source": [
        "help(math.ceil)"
      ]
    },
    {
      "cell_type": "markdown",
      "metadata": {
        "id": "TOJr76sbFEIe"
      },
      "source": [
        "## Writing modules\n",
        "Writing Python modules is very simple. To create a module of your own, simply create a new .py file with the module name, and then import it using the Python file name (without the .py extension) using the import command.\n",
        "\n",
        "## Writing packages\n",
        "Packages are name-spaces which contain multiple packages and modules themselves. They are simply directories, but with a twist.\n",
        "\n",
        "The twist is, each package in Python is a directory which MUST contain a special file called **\\__init\\__.py**. This file can be empty, and it indicates that the directory it contains is a Python package, so it can be imported the same way a module can be imported.\n",
        "\n",
        "If we create a directory called foo, which marks the package name, we can then create a module inside that package called bar. We also must not forget to add the **\\__init\\__.py** file inside the foo directory.\n",
        "\n",
        "To use the module bar, we can import it in two ways:"
      ]
    },
    {
      "cell_type": "code",
      "execution_count": null,
      "metadata": {
        "colab": {
          "base_uri": "https://localhost:8080/",
          "height": 332
        },
        "id": "BFevwOWlFEIf",
        "outputId": "04edc4fd-6eea-4c13-bca3-c418907b94bb"
      },
      "outputs": [
        {
          "output_type": "error",
          "ename": "ModuleNotFoundError",
          "evalue": "ignored",
          "traceback": [
            "\u001b[0;31m---------------------------------------------------------------------------\u001b[0m",
            "\u001b[0;31mModuleNotFoundError\u001b[0m                       Traceback (most recent call last)",
            "\u001b[0;32m<ipython-input-5-0ab3de8fa44b>\u001b[0m in \u001b[0;36m<module>\u001b[0;34m()\u001b[0m\n\u001b[1;32m      1\u001b[0m \u001b[0;31m# Just an example, this won't work\u001b[0m\u001b[0;34m\u001b[0m\u001b[0;34m\u001b[0m\u001b[0;34m\u001b[0m\u001b[0m\n\u001b[0;32m----> 2\u001b[0;31m \u001b[0;32mimport\u001b[0m \u001b[0mfoo\u001b[0m\u001b[0;34m.\u001b[0m\u001b[0mbar\u001b[0m\u001b[0;34m\u001b[0m\u001b[0;34m\u001b[0m\u001b[0m\n\u001b[0m",
            "\u001b[0;31mModuleNotFoundError\u001b[0m: No module named 'foo'",
            "",
            "\u001b[0;31m---------------------------------------------------------------------------\u001b[0;32m\nNOTE: If your import is failing due to a missing package, you can\nmanually install dependencies using either !pip or !apt.\n\nTo view examples of installing some common dependencies, click the\n\"Open Examples\" button below.\n\u001b[0;31m---------------------------------------------------------------------------\u001b[0m\n"
          ],
          "errorDetails": {
            "actions": [
              {
                "action": "open_url",
                "actionText": "Open Examples",
                "url": "/notebooks/snippets/importing_libraries.ipynb"
              }
            ]
          }
        }
      ],
      "source": [
        "# Just an example, this won't work\n",
        "import foo.bar"
      ]
    },
    {
      "cell_type": "code",
      "execution_count": null,
      "metadata": {
        "colab": {
          "base_uri": "https://localhost:8080/",
          "height": 332
        },
        "id": "dEGOkE0ZFEIg",
        "outputId": "0a563b28-96ff-4d73-8304-4f2f959d044a"
      },
      "outputs": [
        {
          "output_type": "error",
          "ename": "ModuleNotFoundError",
          "evalue": "ignored",
          "traceback": [
            "\u001b[0;31m---------------------------------------------------------------------------\u001b[0m",
            "\u001b[0;31mModuleNotFoundError\u001b[0m                       Traceback (most recent call last)",
            "\u001b[0;32m<ipython-input-6-dc56cf554081>\u001b[0m in \u001b[0;36m<module>\u001b[0;34m()\u001b[0m\n\u001b[1;32m      1\u001b[0m \u001b[0;31m# OR could do it this way\u001b[0m\u001b[0;34m\u001b[0m\u001b[0;34m\u001b[0m\u001b[0;34m\u001b[0m\u001b[0m\n\u001b[0;32m----> 2\u001b[0;31m \u001b[0;32mfrom\u001b[0m \u001b[0mfoo\u001b[0m \u001b[0;32mimport\u001b[0m \u001b[0mbar\u001b[0m\u001b[0;34m\u001b[0m\u001b[0;34m\u001b[0m\u001b[0m\n\u001b[0m",
            "\u001b[0;31mModuleNotFoundError\u001b[0m: No module named 'foo'",
            "",
            "\u001b[0;31m---------------------------------------------------------------------------\u001b[0;32m\nNOTE: If your import is failing due to a missing package, you can\nmanually install dependencies using either !pip or !apt.\n\nTo view examples of installing some common dependencies, click the\n\"Open Examples\" button below.\n\u001b[0;31m---------------------------------------------------------------------------\u001b[0m\n"
          ],
          "errorDetails": {
            "actions": [
              {
                "action": "open_url",
                "actionText": "Open Examples",
                "url": "/notebooks/snippets/importing_libraries.ipynb"
              }
            ]
          }
        }
      ],
      "source": [
        "# OR could do it this way\n",
        "from foo import bar"
      ]
    },
    {
      "cell_type": "markdown",
      "metadata": {
        "id": "UUNGi6YiFEIg"
      },
      "source": [
        "In the first method, we must use the foo prefix whenever we access the module bar. In the second method, we don't, because we import the module to our module's name-space.\n",
        "\n",
        "The **\\__init\\__.py** file can also decide which modules the package exports as the API, while keeping other modules internal, by overriding the **\\__all\\__** variable, like so:"
      ]
    },
    {
      "cell_type": "code",
      "execution_count": null,
      "metadata": {
        "colab": {
          "base_uri": "https://localhost:8080/",
          "height": 133
        },
        "id": "6sr3ihzeFEIg",
        "outputId": "8a6c5b9f-8e22-489f-d2bb-f5f551780b41"
      },
      "outputs": [
        {
          "output_type": "error",
          "ename": "SyntaxError",
          "evalue": "ignored",
          "traceback": [
            "\u001b[0;36m  File \u001b[0;32m\"<ipython-input-7-d185ba106d06>\"\u001b[0;36m, line \u001b[0;32m1\u001b[0m\n\u001b[0;31m    __init__.py:\u001b[0m\n\u001b[0m                ^\u001b[0m\n\u001b[0;31mSyntaxError\u001b[0m\u001b[0;31m:\u001b[0m invalid syntax\n"
          ]
        }
      ],
      "source": [
        "__init__.py:\n",
        "__all__=[\"bar\"]"
      ]
    },
    {
      "cell_type": "markdown",
      "metadata": {
        "id": "iFtTjKuDFEIh"
      },
      "source": [
        "# Errors and Exception Handling\n",
        "\n",
        "In this section, we will learn about Errors and Exception Handling in Python. You've might have definitely encountered errors by this point in the course. For example:"
      ]
    },
    {
      "cell_type": "code",
      "execution_count": null,
      "metadata": {
        "colab": {
          "base_uri": "https://localhost:8080/"
        },
        "id": "OcNdV1BxFEIh",
        "outputId": "32cd075d-fef7-4c48-c6f6-a5a5422a9647"
      },
      "outputs": [
        {
          "output_type": "stream",
          "name": "stdout",
          "text": [
            "hello\n"
          ]
        }
      ],
      "source": [
        "print('hello')"
      ]
    },
    {
      "cell_type": "markdown",
      "metadata": {
        "id": "6g0EN2LoFEIh"
      },
      "source": [
        "Note how we get a SyntaxError, with the further description that it was an End of Line Error (EOL) while scanning the string literal. This is specific enough for us to see that we forgot a single quote at the end of the line. Understanding of these various error types will help you debug your code much faster. \n",
        "\n",
        "This type of error and description is known as an Exception. Even if a statement or expression is syntactically correct, it may cause an error when an attempt is made to execute it. Errors detected during execution are called exceptions and are not unconditionally fatal.\n",
        "\n",
        "You can check out the full list of built-in exceptions [here](https://docs.python.org/2/library/exceptions.html). Now, let's learn how to handle errors and exceptions in our own code."
      ]
    },
    {
      "cell_type": "markdown",
      "metadata": {
        "id": "9Jf-cSZbFEIi"
      },
      "source": [
        "## try and except\n",
        "\n",
        "The basic terminology and syntax used to handle errors in Python is the **try** and **except** statements. The code which can cause an exception to occur is put in the *try* block and the handling of the exception are the implemented in the *except* block of code. The syntax form is:\n",
        "\n",
        "    try:\n",
        "       You do your operations here...\n",
        "       ...\n",
        "    except ExceptionI:\n",
        "       If there is ExceptionI, then execute this block.\n",
        "    except ExceptionII:\n",
        "       If there is ExceptionII, then execute this block.\n",
        "       ...\n",
        "    else:\n",
        "       If there is no exception then execute this block. \n",
        "\n",
        "Using just except, we can check for any exception: To understand better let's check out a sample code that opens and writes a file:"
      ]
    },
    {
      "cell_type": "code",
      "execution_count": null,
      "metadata": {
        "colab": {
          "base_uri": "https://localhost:8080/"
        },
        "id": "SK_Qi4kiFEIj",
        "outputId": "81c44f25-96b9-4954-8bee-b8d7aeac18b4"
      },
      "outputs": [
        {
          "output_type": "stream",
          "name": "stdout",
          "text": [
            "Content written successfully\n"
          ]
        }
      ],
      "source": [
        "try:\n",
        "  f=open('testfile','w')\n",
        "  f.write('test write this')\n",
        "except IOError:\n",
        "  print(\"Error: could not find file or read data\")\n",
        "else:\n",
        "  print(\"Content written successfully\")\n",
        "  f.close()"
      ]
    },
    {
      "cell_type": "markdown",
      "metadata": {
        "id": "puxOenwZFEIj"
      },
      "source": [
        "Now, let's see what happens when we don't have write permission? (opening only with 'r'):"
      ]
    },
    {
      "cell_type": "code",
      "execution_count": null,
      "metadata": {
        "colab": {
          "base_uri": "https://localhost:8080/"
        },
        "id": "3PIiQSM3FEIk",
        "outputId": "5655feab-a3de-4184-9f43-62c02fdb5a6e"
      },
      "outputs": [
        {
          "output_type": "stream",
          "name": "stdout",
          "text": [
            "Error: could not find file or read data\n"
          ]
        }
      ],
      "source": [
        "try:\n",
        "  f=open('testfile','r')\n",
        "  f.write('test write this')\n",
        "except IOError:\n",
        "  print(\"Error: could not find file or read data\")\n",
        "else:\n",
        "  print(\"Content written successfully\")\n",
        "  f.close()"
      ]
    },
    {
      "cell_type": "markdown",
      "metadata": {
        "id": "XJEc-V7yFEIk"
      },
      "source": [
        "Notice, how we only printed a statement! The code still ran and we were able to continue doing actions and running code blocks. This is extremely useful when you have to account for possible input errors in your code. You can be prepared for the error and keep running code, instead of your code just breaking as we saw above.\n",
        "\n",
        "We could have also just said except: if we weren't sure what exception would occur. For example:"
      ]
    },
    {
      "cell_type": "code",
      "execution_count": null,
      "metadata": {
        "colab": {
          "base_uri": "https://localhost:8080/"
        },
        "id": "8i1RcmXcFEIk",
        "outputId": "88d8ca43-d7aa-4883-d740-bafff089f8ed"
      },
      "outputs": [
        {
          "output_type": "stream",
          "name": "stdout",
          "text": [
            "Content written successfully\n"
          ]
        }
      ],
      "source": [
        "try:\n",
        "  f=open('testfile','w')\n",
        "  f.write('test write this')\n",
        "except IOError:\n",
        "  print(\"Error: could not find file or read data\")\n",
        "else:\n",
        "  print(\"Content written successfully\")\n",
        "  f.close()"
      ]
    },
    {
      "cell_type": "markdown",
      "metadata": {
        "id": "Hpu62tk-FEIk"
      },
      "source": [
        "Now, we don't actually need to memorize the list of exception types! Now what if we keep wanting to run code after the exception occurred? This is where **finally** comes in.\n",
        "##finally\n",
        "The finally: Block of code will always be run regardless if there was an exception in the try code block. The syntax is:\n",
        "\n",
        "    try:\n",
        "       Code block here\n",
        "       ...\n",
        "       Due to any exception, this code may be skipped!\n",
        "    finally:\n",
        "       This code block would always be executed.\n",
        "\n",
        "For example:"
      ]
    },
    {
      "cell_type": "code",
      "execution_count": null,
      "metadata": {
        "colab": {
          "base_uri": "https://localhost:8080/"
        },
        "id": "FJ0jZ_oZFEIl",
        "outputId": "2ee7f095-d18a-4b5a-dcaa-e0dbc01000fd"
      },
      "outputs": [
        {
          "output_type": "stream",
          "name": "stdout",
          "text": [
            "always execute finally code blocks\n"
          ]
        }
      ],
      "source": [
        "try:\n",
        "  f=open('testfile','w')\n",
        "  f.write('test write statement')\n",
        "finally:\n",
        "  print(\"always execute finally code blocks\")\n"
      ]
    },
    {
      "cell_type": "markdown",
      "metadata": {
        "id": "i-PMLuYgFEIl"
      },
      "source": [
        "We can use this in conjunction with except. Let's see a new example that will take into account a user putting in the wrong input:"
      ]
    },
    {
      "cell_type": "code",
      "execution_count": null,
      "metadata": {
        "id": "oCby4c9xFEIl"
      },
      "outputs": [],
      "source": [
        "       def askint():\n",
        "          try:\n",
        "           val=int(input(\"please enter an integer:\"))\n",
        "          except:\n",
        "            print(\"Looks like you did not enter an integer!\")\n",
        "          finally:\n",
        "            print(\"finaally, i executed!\")\n",
        "          print(val)"
      ]
    },
    {
      "cell_type": "code",
      "execution_count": null,
      "metadata": {
        "colab": {
          "base_uri": "https://localhost:8080/"
        },
        "id": "UKW40tM6FEIm",
        "outputId": "54d21628-7012-4d75-8926-525631248809"
      },
      "outputs": [
        {
          "output_type": "stream",
          "name": "stdout",
          "text": [
            "please enter an integer:10\n",
            "finaally, i executed!\n",
            "10\n"
          ]
        }
      ],
      "source": [
        "askint()"
      ]
    },
    {
      "cell_type": "code",
      "execution_count": null,
      "metadata": {
        "colab": {
          "base_uri": "https://localhost:8080/"
        },
        "id": "vs097DnFFEIm",
        "outputId": "5bf7db3a-616c-4f2c-b6e9-a1c88dafc582"
      },
      "outputs": [
        {
          "output_type": "stream",
          "name": "stdout",
          "text": [
            "please enter an integer:1234\n",
            "finaally, i executed!\n",
            "1234\n"
          ]
        }
      ],
      "source": [
        "askint()"
      ]
    },
    {
      "cell_type": "markdown",
      "metadata": {
        "id": "z485SC9VFEIm"
      },
      "source": [
        "Check how we got an error when trying to print val (because it was properly assigned). Let's find the right solution by asking the user and checking to make sure the input type is an integer:"
      ]
    },
    {
      "cell_type": "code",
      "execution_count": null,
      "metadata": {
        "id": "dnbJaUSkFEIm"
      },
      "outputs": [],
      "source": [
        " def askint():\n",
        "          try:\n",
        "           val=int(input(\"please enter an integer:\"))\n",
        "          except:\n",
        "            print(\"Looks like you did not enter an integer!\")\n",
        "            val=int(input(\"try again-please enter an integer:\"))\n",
        "          finally:\n",
        "            print(\"finaally, i executed!\")\n",
        "          print(val)"
      ]
    },
    {
      "cell_type": "code",
      "execution_count": null,
      "metadata": {
        "colab": {
          "base_uri": "https://localhost:8080/"
        },
        "id": "NN42aktWFEIn",
        "outputId": "d947ea5a-d3ef-47a7-9be3-d85abff8e1d9"
      },
      "outputs": [
        {
          "output_type": "stream",
          "name": "stdout",
          "text": [
            "please enter an integer:ade\n",
            "Looks like you did not enter an integer!\n",
            "try again-please enter an integer:1111434\n",
            "finaally, i executed!\n",
            "1111434\n"
          ]
        }
      ],
      "source": [
        "askint()"
      ]
    },
    {
      "cell_type": "markdown",
      "metadata": {
        "id": "bQb0TYgLFEIn"
      },
      "source": [
        "Hmmm...that only did one check. How can we continually keep checking? We can use a while loop!"
      ]
    },
    {
      "cell_type": "code",
      "execution_count": null,
      "metadata": {
        "id": "gALVEOTYFEIn"
      },
      "outputs": [],
      "source": [
        " def askint():\n",
        "   while True:\n",
        "       try:\n",
        "           val=int(input(\"please enter an integer:\"))\n",
        "       except:\n",
        "           print(\"Looks like you did not enter an integer!\")\n",
        "           continue\n",
        "       else:\n",
        "           print(\"yep! thats an integer\")\n",
        "           break\n",
        "       finally:\n",
        "           print(\"finally, i executed!\")\n",
        "       print(val)"
      ]
    },
    {
      "cell_type": "code",
      "execution_count": null,
      "metadata": {
        "scrolled": true,
        "colab": {
          "base_uri": "https://localhost:8080/"
        },
        "id": "kRbn1UVCFEIn",
        "outputId": "1e3230f6-162f-4c2d-fe26-a6f8522efff8"
      },
      "outputs": [
        {
          "output_type": "stream",
          "name": "stdout",
          "text": [
            "please enter an integer:1243324\n",
            "yep! thats an integer\n",
            "finally, i executed!\n"
          ]
        }
      ],
      "source": [
        "askint()"
      ]
    },
    {
      "cell_type": "markdown",
      "metadata": {
        "id": "5NuamJDbFEIn"
      },
      "source": [
        "## Database connectivity and operations using Python.\n",
        "\n",
        "For Example, the following is the example of connecting with MySQL database \"my_database1\" and creating table grades1 and inserting values inside it."
      ]
    },
    {
      "cell_type": "code",
      "execution_count": null,
      "metadata": {
        "colab": {
          "base_uri": "https://localhost:8080/"
        },
        "id": "PUH9EElAFEIo",
        "outputId": "edf5ec51-9742-4b5f-dba6-e7aac621f0c4"
      },
      "outputs": [
        {
          "output_type": "execute_result",
          "data": {
            "text/plain": [
              "<sqlite3.Cursor at 0x7f1ed5836f80>"
            ]
          },
          "metadata": {},
          "execution_count": 31
        }
      ],
      "source": [
        "#!/usr/bin/python\n",
        "import sqlite3\n",
        "\n",
        "#connecting with the database.\n",
        "db=sqlite3.connect(\"my_database1.db\")\n",
        "\n",
        "# Drop table if it already exist using execute() method.\n",
        "db.execute(\"drop table if exists grades1\")\n",
        "# Create table as per requirement\n",
        "db.execute(\"create table grades1(id int,name text,score int)\")\n",
        "#inserting values inside the created table\n",
        "db.execute(\"insert into grades1(id, name, score) values(101, 'John', 99)\")\n",
        "db.execute(\"insert into grades1(id, name, score) values(102, 'poha', 90)\")\n",
        "db.execute(\"insert into grades1(id, name, score) values(103, 'riya', 97)\")\n",
        "db.execute(\"insert into grades1(id, name, score) values(104, 'diya', 46)\")\n",
        "db.execute(\"insert into grades1(id, name, score) values(105, 'sara', 43)\")\n",
        "\n"
      ]
    },
    {
      "cell_type": "code",
      "execution_count": null,
      "metadata": {
        "id": "05wuIZ2KFEIo"
      },
      "outputs": [],
      "source": [
        "db.commit()"
      ]
    },
    {
      "cell_type": "code",
      "execution_count": null,
      "metadata": {
        "colab": {
          "base_uri": "https://localhost:8080/"
        },
        "id": "gsLxUGw5FEIo",
        "outputId": "436a1024-74ba-4b01-8027-3d1387eb583a"
      },
      "outputs": [
        {
          "output_type": "stream",
          "name": "stdout",
          "text": [
            "(101, 'John', 99)\n",
            "(102, 'poha', 90)\n",
            "(103, 'riya', 97)\n",
            "(104, 'diya', 46)\n",
            "(105, 'sara', 43)\n",
            "------------------------------------------------------------\n"
          ]
        }
      ],
      "source": [
        "results=db.execute(\"select * from grades1 order by id\")\n",
        "for row in results:\n",
        "  print(row)\n",
        "print(\"-\"*60)"
      ]
    },
    {
      "cell_type": "code",
      "execution_count": null,
      "metadata": {
        "colab": {
          "base_uri": "https://localhost:8080/"
        },
        "id": "LDT66yKyFEIp",
        "outputId": "d240986d-1e83-435c-9cce-665813e2da5a"
      },
      "outputs": [
        {
          "output_type": "stream",
          "name": "stdout",
          "text": [
            "------------------------------------------------------------\n"
          ]
        }
      ],
      "source": [
        "results=db.execute(\"select*from grades1 where name='Gary' \")\n",
        "for row in results:\n",
        "  print(row)\n",
        "print(\"-\"*60)"
      ]
    },
    {
      "cell_type": "code",
      "execution_count": null,
      "metadata": {
        "colab": {
          "base_uri": "https://localhost:8080/"
        },
        "id": "Wj71KUm9FEIp",
        "outputId": "215aae27-79f9-4853-9b08-fa8a3e30a4d1"
      },
      "outputs": [
        {
          "output_type": "stream",
          "name": "stdout",
          "text": [
            "(101, 'John', 99)\n",
            "(102, 'poha', 90)\n",
            "(103, 'riya', 97)\n",
            "------------------------------------------------------------\n"
          ]
        }
      ],
      "source": [
        "results=db.execute(\"select*from grades1 where score>=90 \")\n",
        "for row in results:\n",
        "  print(row)\n",
        "print(\"-\"*60)"
      ]
    },
    {
      "cell_type": "code",
      "execution_count": null,
      "metadata": {
        "colab": {
          "base_uri": "https://localhost:8080/"
        },
        "id": "umcvsJOfFEIp",
        "outputId": "c243cea6-34a4-430e-924a-8932e5f38d02"
      },
      "outputs": [
        {
          "output_type": "stream",
          "name": "stdout",
          "text": [
            "('John', 99)\n",
            "('riya', 97)\n",
            "('poha', 90)\n",
            "('diya', 46)\n",
            "('sara', 43)\n",
            "------------------------------------------------------------\n"
          ]
        }
      ],
      "source": [
        "results=db.execute(\"select name, score from grades1 order by score desc \")\n",
        "for row in results:\n",
        "  print(row)\n",
        "print(\"-\"*60)"
      ]
    },
    {
      "cell_type": "code",
      "execution_count": null,
      "metadata": {
        "colab": {
          "base_uri": "https://localhost:8080/"
        },
        "id": "aoIyxuBbFEIp",
        "outputId": "43df5153-1dd1-46f5-beff-6a09f3dbd5a9"
      },
      "outputs": [
        {
          "output_type": "stream",
          "name": "stdout",
          "text": [
            "('sara', 43)\n",
            "('diya', 46)\n",
            "('poha', 90)\n",
            "('riya', 97)\n",
            "('John', 99)\n",
            "------------------------------------------------------------\n"
          ]
        }
      ],
      "source": [
        "results=db.execute(\"select name, score from grades1 order by score \")\n",
        "for row in results:\n",
        "  print(row)\n",
        "print(\"-\"*60)"
      ]
    },
    {
      "cell_type": "code",
      "execution_count": null,
      "metadata": {
        "colab": {
          "base_uri": "https://localhost:8080/"
        },
        "id": "R1uNA1GOFEIp",
        "outputId": "01103355-0b96-40ed-bc74-3f01eeb461fd"
      },
      "outputs": [
        {
          "output_type": "stream",
          "name": "stdout",
          "text": [
            "('sara', 43)\n",
            "('diya', 46)\n",
            "('poha', 90)\n",
            "('riya', 97)\n",
            "('John', 99)\n"
          ]
        }
      ],
      "source": [
        "results=db.execute(\"select name, score from grades1 order by score \")\n",
        "for row in results:\n",
        "  print(row)\n"
      ]
    },
    {
      "cell_type": "code",
      "execution_count": null,
      "metadata": {
        "id": "0GIiL0ApFEIp"
      },
      "outputs": [],
      "source": [
        ""
      ]
    }
  ],
  "metadata": {
    "kernelspec": {
      "display_name": "Python 3",
      "language": "python",
      "name": "python3"
    },
    "language_info": {
      "codemirror_mode": {
        "name": "ipython",
        "version": 3
      },
      "file_extension": ".py",
      "mimetype": "text/x-python",
      "name": "python",
      "nbconvert_exporter": "python",
      "pygments_lexer": "ipython3",
      "version": "3.7.3"
    },
    "colab": {
      "name": "Python Day 5.ipynb",
      "provenance": [],
      "collapsed_sections": []
    }
  },
  "nbformat": 4,
  "nbformat_minor": 0
}